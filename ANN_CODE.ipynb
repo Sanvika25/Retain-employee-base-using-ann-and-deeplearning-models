{
  "nbformat": 4,
  "nbformat_minor": 0,
  "metadata": {
    "colab": {
      "provenance": [],
      "include_colab_link": true
    },
    "kernelspec": {
      "name": "python3",
      "display_name": "Python 3"
    },
    "language_info": {
      "name": "python"
    }
  },
  "cells": [
    {
      "cell_type": "markdown",
      "metadata": {
        "id": "view-in-github",
        "colab_type": "text"
      },
      "source": [
        "<a href=\"https://colab.research.google.com/github/Sanvika25/Retain-employee-base-using-ann-and-deeplearning-models/blob/main/ANN_CODE.ipynb\" target=\"_parent\"><img src=\"https://colab.research.google.com/assets/colab-badge.svg\" alt=\"Open In Colab\"/></a>"
      ]
    },
    {
      "cell_type": "code",
      "source": [
        "import numpy as np\n",
        "import matplotlib.pyplot as plt\n",
        "import pandas as pd"
      ],
      "metadata": {
        "id": "nYFlr4aoWOWV"
      },
      "execution_count": 1,
      "outputs": []
    },
    {
      "cell_type": "code",
      "source": [
        "# Load the dataset\n",
        "dataset = pd.read_csv('/content/Churn_Modelling.csv')"
      ],
      "metadata": {
        "id": "szCehkL1Wc1S"
      },
      "execution_count": 2,
      "outputs": []
    },
    {
      "cell_type": "code",
      "source": [
        "# Extract features (X) and target (y)\n",
        "X = dataset.iloc[:, 3:13].values\n",
        "y = dataset.iloc[:, 13].values\n"
      ],
      "metadata": {
        "id": "GDaUIEZYWqPg"
      },
      "execution_count": 3,
      "outputs": []
    },
    {
      "cell_type": "code",
      "source": [
        "# Apply label encoding to categorical variables\n",
        "from sklearn.preprocessing import LabelEncoder\n",
        "\n",
        "labelencoder_X_1 = LabelEncoder()\n",
        "X[:, 1] = labelencoder_X_1.fit_transform(X[:, 1])\n",
        "\n",
        "labelencoder_X_2 = LabelEncoder()\n",
        "X[:, 2] = labelencoder_X_2.fit_transform(X[:, 2])"
      ],
      "metadata": {
        "id": "VDYnFfsaWrLb"
      },
      "execution_count": 4,
      "outputs": []
    },
    {
      "cell_type": "code",
      "source": [
        "# Apply one-hot encoding to the first categorical column\n",
        "from sklearn.compose import ColumnTransformer\n",
        "from sklearn.preprocessing import OneHotEncoder\n",
        "\n",
        "ct = ColumnTransformer(transformers=[('encoder', OneHotEncoder(), [1])], remainder='passthrough')\n",
        "X = ct.fit_transform(X)"
      ],
      "metadata": {
        "id": "EIFAqN2nWxar"
      },
      "execution_count": 5,
      "outputs": []
    },
    {
      "cell_type": "code",
      "source": [
        "# Split the data into training and testing sets\n",
        "from sklearn.model_selection import train_test_split\n",
        "\n",
        "X_train, X_test, y_train, y_test = train_test_split(X, y, test_size = 0.2, random_state = 0)\n"
      ],
      "metadata": {
        "id": "A78GLckIWynv"
      },
      "execution_count": 6,
      "outputs": []
    },
    {
      "cell_type": "code",
      "source": [
        "# Standardize the features\n",
        "from sklearn.preprocessing import StandardScaler\n",
        "sc = StandardScaler()\n",
        "X_train = sc.fit_transform(X_train)\n",
        "X_test = sc.transform(X_test)"
      ],
      "metadata": {
        "id": "ckP8st1DW2C8"
      },
      "execution_count": 7,
      "outputs": []
    },
    {
      "cell_type": "code",
      "source": [
        "# Build the neural network model\n",
        "from keras.models import Sequential\n",
        "from keras.layers import Dense\n",
        "\n",
        "model = Sequential()\n",
        "model.add(Dense(units=6, activation='relu', kernel_initializer='uniform', input_dim=12)) # Change input_dim to 12\n",
        "model.add(Dense(units=6, activation='relu', kernel_initializer='uniform'))\n",
        "model.add(Dense(units=1, kernel_initializer='uniform', activation='sigmoid'))\n",
        "model.compile(optimizer = 'adam', loss = 'binary_crossentropy', metrics = ['accuracy'])\n",
        "\n",
        "# Train the model\n",
        "model.fit(X_train, y_train, batch_size=10, epochs=100)\n"
      ],
      "metadata": {
        "colab": {
          "base_uri": "https://localhost:8080/"
        },
        "id": "hGT-zcrxW8ZE",
        "outputId": "3b1100fa-d931-4290-a580-ef8ec93d1331"
      },
      "execution_count": 8,
      "outputs": [
        {
          "output_type": "stream",
          "name": "stdout",
          "text": [
            "Epoch 1/100\n",
            "800/800 [==============================] - 3s 3ms/step - loss: 0.4832 - accuracy: 0.7975\n",
            "Epoch 2/100\n",
            "800/800 [==============================] - 2s 2ms/step - loss: 0.4201 - accuracy: 0.8190\n",
            "Epoch 3/100\n",
            "800/800 [==============================] - 2s 2ms/step - loss: 0.4145 - accuracy: 0.8231\n",
            "Epoch 4/100\n",
            "800/800 [==============================] - 2s 2ms/step - loss: 0.4106 - accuracy: 0.8264\n",
            "Epoch 5/100\n",
            "800/800 [==============================] - 2s 2ms/step - loss: 0.4073 - accuracy: 0.8282\n",
            "Epoch 6/100\n",
            "800/800 [==============================] - 2s 2ms/step - loss: 0.4056 - accuracy: 0.8304\n",
            "Epoch 7/100\n",
            "800/800 [==============================] - 2s 2ms/step - loss: 0.4040 - accuracy: 0.8336\n",
            "Epoch 8/100\n",
            "800/800 [==============================] - 2s 2ms/step - loss: 0.4032 - accuracy: 0.8321\n",
            "Epoch 9/100\n",
            "800/800 [==============================] - 2s 3ms/step - loss: 0.4027 - accuracy: 0.8339\n",
            "Epoch 10/100\n",
            "800/800 [==============================] - 2s 2ms/step - loss: 0.4021 - accuracy: 0.8347\n",
            "Epoch 11/100\n",
            "800/800 [==============================] - 2s 2ms/step - loss: 0.4020 - accuracy: 0.8350\n",
            "Epoch 12/100\n",
            "800/800 [==============================] - 2s 2ms/step - loss: 0.4018 - accuracy: 0.8346\n",
            "Epoch 13/100\n",
            "800/800 [==============================] - 1s 2ms/step - loss: 0.4008 - accuracy: 0.8350\n",
            "Epoch 14/100\n",
            "800/800 [==============================] - 2s 2ms/step - loss: 0.4006 - accuracy: 0.8341\n",
            "Epoch 15/100\n",
            "800/800 [==============================] - 2s 2ms/step - loss: 0.4002 - accuracy: 0.8353\n",
            "Epoch 16/100\n",
            "800/800 [==============================] - 2s 2ms/step - loss: 0.3996 - accuracy: 0.8357\n",
            "Epoch 17/100\n",
            "800/800 [==============================] - 2s 3ms/step - loss: 0.3991 - accuracy: 0.8366\n",
            "Epoch 18/100\n",
            "800/800 [==============================] - 2s 2ms/step - loss: 0.3989 - accuracy: 0.8363\n",
            "Epoch 19/100\n",
            "800/800 [==============================] - 2s 2ms/step - loss: 0.3987 - accuracy: 0.8370\n",
            "Epoch 20/100\n",
            "800/800 [==============================] - 2s 2ms/step - loss: 0.3985 - accuracy: 0.8363\n",
            "Epoch 21/100\n",
            "800/800 [==============================] - 2s 2ms/step - loss: 0.3984 - accuracy: 0.8376\n",
            "Epoch 22/100\n",
            "800/800 [==============================] - 2s 2ms/step - loss: 0.3977 - accuracy: 0.8364\n",
            "Epoch 23/100\n",
            "800/800 [==============================] - 2s 2ms/step - loss: 0.3977 - accuracy: 0.8360\n",
            "Epoch 24/100\n",
            "800/800 [==============================] - 2s 2ms/step - loss: 0.3980 - accuracy: 0.8361\n",
            "Epoch 25/100\n",
            "800/800 [==============================] - 2s 3ms/step - loss: 0.3972 - accuracy: 0.8374\n",
            "Epoch 26/100\n",
            "800/800 [==============================] - 2s 2ms/step - loss: 0.3977 - accuracy: 0.8361\n",
            "Epoch 27/100\n",
            "800/800 [==============================] - 2s 2ms/step - loss: 0.3970 - accuracy: 0.8375\n",
            "Epoch 28/100\n",
            "800/800 [==============================] - 1s 2ms/step - loss: 0.3964 - accuracy: 0.8364\n",
            "Epoch 29/100\n",
            "800/800 [==============================] - 2s 2ms/step - loss: 0.3961 - accuracy: 0.8374\n",
            "Epoch 30/100\n",
            "800/800 [==============================] - 2s 2ms/step - loss: 0.3959 - accuracy: 0.8375\n",
            "Epoch 31/100\n",
            "800/800 [==============================] - 2s 2ms/step - loss: 0.3954 - accuracy: 0.8376\n",
            "Epoch 32/100\n",
            "800/800 [==============================] - 2s 2ms/step - loss: 0.3953 - accuracy: 0.8360\n",
            "Epoch 33/100\n",
            "800/800 [==============================] - 2s 3ms/step - loss: 0.3951 - accuracy: 0.8367\n",
            "Epoch 34/100\n",
            "800/800 [==============================] - 2s 2ms/step - loss: 0.3949 - accuracy: 0.8379\n",
            "Epoch 35/100\n",
            "800/800 [==============================] - 1s 2ms/step - loss: 0.3946 - accuracy: 0.8378\n",
            "Epoch 36/100\n",
            "800/800 [==============================] - 2s 2ms/step - loss: 0.3934 - accuracy: 0.8366\n",
            "Epoch 37/100\n",
            "800/800 [==============================] - 2s 2ms/step - loss: 0.3938 - accuracy: 0.8380\n",
            "Epoch 38/100\n",
            "800/800 [==============================] - 2s 2ms/step - loss: 0.3935 - accuracy: 0.8390\n",
            "Epoch 39/100\n",
            "800/800 [==============================] - 2s 2ms/step - loss: 0.3929 - accuracy: 0.8389\n",
            "Epoch 40/100\n",
            "800/800 [==============================] - 2s 2ms/step - loss: 0.3923 - accuracy: 0.8395\n",
            "Epoch 41/100\n",
            "800/800 [==============================] - 2s 3ms/step - loss: 0.3918 - accuracy: 0.8390\n",
            "Epoch 42/100\n",
            "800/800 [==============================] - 2s 2ms/step - loss: 0.3895 - accuracy: 0.8394\n",
            "Epoch 43/100\n",
            "800/800 [==============================] - 2s 2ms/step - loss: 0.3887 - accuracy: 0.8390\n",
            "Epoch 44/100\n",
            "800/800 [==============================] - 2s 2ms/step - loss: 0.3870 - accuracy: 0.8399\n",
            "Epoch 45/100\n",
            "800/800 [==============================] - 1s 2ms/step - loss: 0.3846 - accuracy: 0.8381\n",
            "Epoch 46/100\n",
            "800/800 [==============================] - 2s 2ms/step - loss: 0.3815 - accuracy: 0.8418\n",
            "Epoch 47/100\n",
            "800/800 [==============================] - 2s 2ms/step - loss: 0.3801 - accuracy: 0.8404\n",
            "Epoch 48/100\n",
            "800/800 [==============================] - 2s 2ms/step - loss: 0.3766 - accuracy: 0.8388\n",
            "Epoch 49/100\n",
            "800/800 [==============================] - 2s 3ms/step - loss: 0.3750 - accuracy: 0.8378\n",
            "Epoch 50/100\n",
            "800/800 [==============================] - 1s 2ms/step - loss: 0.3731 - accuracy: 0.8396\n",
            "Epoch 51/100\n",
            "800/800 [==============================] - 2s 2ms/step - loss: 0.3700 - accuracy: 0.8388\n",
            "Epoch 52/100\n",
            "800/800 [==============================] - 2s 2ms/step - loss: 0.3686 - accuracy: 0.8389\n",
            "Epoch 53/100\n",
            "800/800 [==============================] - 2s 2ms/step - loss: 0.3653 - accuracy: 0.8445\n",
            "Epoch 54/100\n",
            "800/800 [==============================] - 2s 2ms/step - loss: 0.3633 - accuracy: 0.8439\n",
            "Epoch 55/100\n",
            "800/800 [==============================] - 2s 2ms/step - loss: 0.3612 - accuracy: 0.8471\n",
            "Epoch 56/100\n",
            "800/800 [==============================] - 2s 3ms/step - loss: 0.3599 - accuracy: 0.8516\n",
            "Epoch 57/100\n",
            "800/800 [==============================] - 2s 2ms/step - loss: 0.3585 - accuracy: 0.8534\n",
            "Epoch 58/100\n",
            "800/800 [==============================] - 2s 2ms/step - loss: 0.3571 - accuracy: 0.8539\n",
            "Epoch 59/100\n",
            "800/800 [==============================] - 2s 2ms/step - loss: 0.3562 - accuracy: 0.8562\n",
            "Epoch 60/100\n",
            "800/800 [==============================] - 2s 2ms/step - loss: 0.3548 - accuracy: 0.8560\n",
            "Epoch 61/100\n",
            "800/800 [==============================] - 2s 2ms/step - loss: 0.3541 - accuracy: 0.8576\n",
            "Epoch 62/100\n",
            "800/800 [==============================] - 2s 2ms/step - loss: 0.3533 - accuracy: 0.8572\n",
            "Epoch 63/100\n",
            "800/800 [==============================] - 2s 2ms/step - loss: 0.3518 - accuracy: 0.8575\n",
            "Epoch 64/100\n",
            "800/800 [==============================] - 2s 3ms/step - loss: 0.3507 - accuracy: 0.8599\n",
            "Epoch 65/100\n",
            "800/800 [==============================] - 2s 2ms/step - loss: 0.3499 - accuracy: 0.8590\n",
            "Epoch 66/100\n",
            "800/800 [==============================] - 2s 2ms/step - loss: 0.3489 - accuracy: 0.8599\n",
            "Epoch 67/100\n",
            "800/800 [==============================] - 2s 2ms/step - loss: 0.3480 - accuracy: 0.8596\n",
            "Epoch 68/100\n",
            "800/800 [==============================] - 2s 2ms/step - loss: 0.3472 - accuracy: 0.8615\n",
            "Epoch 69/100\n",
            "800/800 [==============================] - 2s 2ms/step - loss: 0.3463 - accuracy: 0.8614\n",
            "Epoch 70/100\n",
            "800/800 [==============================] - 2s 2ms/step - loss: 0.3458 - accuracy: 0.8634\n",
            "Epoch 71/100\n",
            "800/800 [==============================] - 2s 2ms/step - loss: 0.3453 - accuracy: 0.8612\n",
            "Epoch 72/100\n",
            "800/800 [==============================] - 2s 2ms/step - loss: 0.3453 - accuracy: 0.8584\n",
            "Epoch 73/100\n",
            "800/800 [==============================] - 2s 2ms/step - loss: 0.3450 - accuracy: 0.8605\n",
            "Epoch 74/100\n",
            "800/800 [==============================] - 2s 2ms/step - loss: 0.3446 - accuracy: 0.8620\n",
            "Epoch 75/100\n",
            "800/800 [==============================] - 2s 2ms/step - loss: 0.3440 - accuracy: 0.8619\n",
            "Epoch 76/100\n",
            "800/800 [==============================] - 2s 2ms/step - loss: 0.3438 - accuracy: 0.8626\n",
            "Epoch 77/100\n",
            "800/800 [==============================] - 2s 2ms/step - loss: 0.3439 - accuracy: 0.8610\n",
            "Epoch 78/100\n",
            "800/800 [==============================] - 2s 2ms/step - loss: 0.3433 - accuracy: 0.8612\n",
            "Epoch 79/100\n",
            "800/800 [==============================] - 2s 2ms/step - loss: 0.3438 - accuracy: 0.8611\n",
            "Epoch 80/100\n",
            "800/800 [==============================] - 2s 3ms/step - loss: 0.3434 - accuracy: 0.8624\n",
            "Epoch 81/100\n",
            "800/800 [==============================] - 2s 2ms/step - loss: 0.3428 - accuracy: 0.8625\n",
            "Epoch 82/100\n",
            "800/800 [==============================] - 2s 2ms/step - loss: 0.3425 - accuracy: 0.8636\n",
            "Epoch 83/100\n",
            "800/800 [==============================] - 2s 2ms/step - loss: 0.3419 - accuracy: 0.8630\n",
            "Epoch 84/100\n",
            "800/800 [==============================] - 2s 2ms/step - loss: 0.3413 - accuracy: 0.8619\n",
            "Epoch 85/100\n",
            "800/800 [==============================] - 2s 2ms/step - loss: 0.3416 - accuracy: 0.8637\n",
            "Epoch 86/100\n",
            "800/800 [==============================] - 2s 2ms/step - loss: 0.3408 - accuracy: 0.8635\n",
            "Epoch 87/100\n",
            "800/800 [==============================] - 2s 2ms/step - loss: 0.3415 - accuracy: 0.8629\n",
            "Epoch 88/100\n",
            "800/800 [==============================] - 2s 3ms/step - loss: 0.3408 - accuracy: 0.8639\n",
            "Epoch 89/100\n",
            "800/800 [==============================] - 2s 2ms/step - loss: 0.3413 - accuracy: 0.8620\n",
            "Epoch 90/100\n",
            "800/800 [==============================] - 2s 2ms/step - loss: 0.3404 - accuracy: 0.8654\n",
            "Epoch 91/100\n",
            "800/800 [==============================] - 1s 2ms/step - loss: 0.3398 - accuracy: 0.8641\n",
            "Epoch 92/100\n",
            "800/800 [==============================] - 2s 2ms/step - loss: 0.3406 - accuracy: 0.8620\n",
            "Epoch 93/100\n",
            "800/800 [==============================] - 2s 2ms/step - loss: 0.3397 - accuracy: 0.8641\n",
            "Epoch 94/100\n",
            "800/800 [==============================] - 1s 2ms/step - loss: 0.3397 - accuracy: 0.8625\n",
            "Epoch 95/100\n",
            "800/800 [==============================] - 2s 2ms/step - loss: 0.3393 - accuracy: 0.8646\n",
            "Epoch 96/100\n",
            "800/800 [==============================] - 2s 3ms/step - loss: 0.3393 - accuracy: 0.8645\n",
            "Epoch 97/100\n",
            "800/800 [==============================] - 2s 2ms/step - loss: 0.3396 - accuracy: 0.8640\n",
            "Epoch 98/100\n",
            "800/800 [==============================] - 2s 2ms/step - loss: 0.3390 - accuracy: 0.8641\n",
            "Epoch 99/100\n",
            "800/800 [==============================] - 2s 2ms/step - loss: 0.3391 - accuracy: 0.8639\n",
            "Epoch 100/100\n",
            "800/800 [==============================] - 2s 2ms/step - loss: 0.3393 - accuracy: 0.8637\n"
          ]
        },
        {
          "output_type": "execute_result",
          "data": {
            "text/plain": [
              "<keras.src.callbacks.History at 0x78b340667d00>"
            ]
          },
          "metadata": {},
          "execution_count": 8
        }
      ]
    },
    {
      "cell_type": "code",
      "source": [
        "y_pred = model.predict(X_test)\n",
        "y_pred = (y_pred > 0.5)"
      ],
      "metadata": {
        "colab": {
          "base_uri": "https://localhost:8080/"
        },
        "id": "M__K7R4GXx4f",
        "outputId": "57e0b441-14d5-4c11-e651-bf3f916771b3"
      },
      "execution_count": 9,
      "outputs": [
        {
          "output_type": "stream",
          "name": "stdout",
          "text": [
            "63/63 [==============================] - 0s 1ms/step\n"
          ]
        }
      ]
    },
    {
      "cell_type": "code",
      "source": [
        "print(y_pred)"
      ],
      "metadata": {
        "colab": {
          "base_uri": "https://localhost:8080/"
        },
        "id": "hKtkTupiX1U0",
        "outputId": "b9dd99a0-c1f8-4e2c-c596-e98510a647e8"
      },
      "execution_count": 10,
      "outputs": [
        {
          "output_type": "stream",
          "name": "stdout",
          "text": [
            "[[False]\n",
            " [False]\n",
            " [False]\n",
            " ...\n",
            " [False]\n",
            " [False]\n",
            " [False]]\n"
          ]
        }
      ]
    },
    {
      "cell_type": "code",
      "source": [
        "from sklearn.metrics import confusion_matrix\n",
        "cm = confusion_matrix(y_test, y_pred)\n",
        "print(cm)"
      ],
      "metadata": {
        "colab": {
          "base_uri": "https://localhost:8080/"
        },
        "id": "p4kLJG8lX3dF",
        "outputId": "5c66c8f1-e7af-4fb5-c03f-5c5952b26d2c"
      },
      "execution_count": 11,
      "outputs": [
        {
          "output_type": "stream",
          "name": "stdout",
          "text": [
            "[[1539   56]\n",
            " [ 216  189]]\n"
          ]
        }
      ]
    },
    {
      "cell_type": "code",
      "source": [
        "from sklearn.metrics import accuracy_score\n",
        "accuracy = accuracy_score(y_test, y_pred)"
      ],
      "metadata": {
        "id": "Q60AiizpX8Ez"
      },
      "execution_count": 12,
      "outputs": []
    },
    {
      "cell_type": "code",
      "source": [
        "print(accuracy)"
      ],
      "metadata": {
        "colab": {
          "base_uri": "https://localhost:8080/"
        },
        "id": "CFiIjhb8X-z7",
        "outputId": "802f74cd-7136-4610-f088-0b4eafa8584a"
      },
      "execution_count": 13,
      "outputs": [
        {
          "output_type": "stream",
          "name": "stdout",
          "text": [
            "0.864\n"
          ]
        }
      ]
    }
  ]
}